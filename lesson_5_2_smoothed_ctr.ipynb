{
 "cells": [
  {
   "cell_type": "code",
   "execution_count": null,
   "id": "1bc18dcb",
   "metadata": {},
   "outputs": [],
   "source": [
    "# Импортируем библиотеки\n",
    "\n",
    "import pandas as pd\n",
    "import pandahouse as ph\n",
    "import scipy.stats as stats\n",
    "import seaborn as sns\n",
    "from matplotlib import pyplot as plt"
   ]
  },
  {
   "cell_type": "code",
   "execution_count": null,
   "id": "aadb4104",
   "metadata": {},
   "outputs": [],
   "source": [
    "# Определяем функцию для расчета сглаженного ctr\n",
    "\n",
    "def get_smothed_ctr(user_likes, user_views, global_ctr, alpha):\n",
    "    smothed_ctr = (user_likes + alpha * global_ctr) / (user_views + alpha)\n",
    "    return smothed_ctr"
   ]
  },
  {
   "cell_type": "code",
   "execution_count": null,
   "id": "19eaa282",
   "metadata": {},
   "outputs": [],
   "source": [
    "# Вытаскиваем данные из clickhouse для групп 1 и 2 в период с 2023-01-31 по 2023-02-06\n",
    "\n",
    "connection = {\n",
    "              'host': 'https://clickhouse.lab.karpov.courses',\n",
    "              'database':'simulator_20230220',\n",
    "              'user':'student', \n",
    "              'password':'dpo_python_2020'\n",
    "              }\n",
    "\n",
    "query = '''\n",
    "select exp_group,\n",
    "       user_id,\n",
    "       sum(action='like') likes,\n",
    "       sum(action='view') views,\n",
    "       likes/views ctr\n",
    "from {db}.feed_actions \n",
    "where toDate(time) >= '2023-01-31' and toDate(time) <= '2023-02-06'\n",
    "      and exp_group in (1, 2)\n",
    "group by exp_group,\n",
    "       user_id\n",
    "'''\n",
    "\n",
    "df = ph.read_clickhouse(query, connection=connection)"
   ]
  },
  {
   "cell_type": "code",
   "execution_count": null,
   "id": "59b93ac8",
   "metadata": {},
   "outputs": [],
   "source": [
    "# Производим расчет global ctr для наших групп\n",
    "\n",
    "global_ctr_1 = df[df.exp_group == 1].likes.sum()/df[df.exp_group == 1].views.sum()\n",
    "global_ctr_2 = df[df.exp_group == 2].likes.sum()/df[df.exp_group == 2].views.sum()\n",
    "\n",
    "# Производим расчет сглаженного ctr \n",
    "\n",
    "group1 = df[df.exp_group == 1].copy()\n",
    "group2 = df[df.exp_group == 2].copy()\n",
    "\n",
    "group1['smothed_ctr'] = df.apply(lambda x: get_smothed_ctr(x['likes'], x['views'], global_ctr_1, 5), axis=1)\n",
    "group2['smothed_ctr'] = df.apply(lambda x: get_smothed_ctr(x['likes'], x['views'], global_ctr_2, 5), axis=1)"
   ]
  },
  {
   "cell_type": "code",
   "execution_count": null,
   "id": "4edb9a18",
   "metadata": {},
   "outputs": [],
   "source": [
    "# Рисуем гистограмму распределения сглаженных поюзерных ctr\n",
    "plt.figure(figsize=(12, 6))\n",
    "\n",
    "sns.histplot(data = group1, \n",
    "              x='smothed_ctr',\n",
    "              color='red',\n",
    "              alpha=0.3,\n",
    "              kde=False)\n",
    "\n",
    "sns.histplot(data = group2, \n",
    "              x='smothed_ctr',\n",
    "              alpha=0.7,\n",
    "              kde=False)"
   ]
  },
  {
   "cell_type": "code",
   "execution_count": null,
   "id": "18445e74",
   "metadata": {},
   "outputs": [],
   "source": [
    "# Проводим t-тест\n",
    "stats.ttest_ind(group1.smothed_ctr,\n",
    "                group2.smothed_ctr,\n",
    "                equal_var=False)"
   ]
  },
  {
   "cell_type": "code",
   "execution_count": null,
   "id": "2bf86c78",
   "metadata": {},
   "outputs": [],
   "source": [
    "# Проводим тест Манна-Уитни\n",
    "stats.mannwhitneyu(group1.smothed_ctr,\n",
    "                   group2.smothed_ctr,\n",
    "                   alternative = 'two-sided')"
   ]
  },
  {
   "cell_type": "code",
   "execution_count": null,
   "id": "c7112ddc",
   "metadata": {},
   "outputs": [],
   "source": [
    "group1.smothed_ctr.mean()"
   ]
  },
  {
   "cell_type": "code",
   "execution_count": null,
   "id": "ab5ace55",
   "metadata": {},
   "outputs": [],
   "source": [
    "group2.smothed_ctr.mean()"
   ]
  }
 ],
 "metadata": {
  "kernelspec": {
   "display_name": "Python 3 (ipykernel)",
   "language": "python",
   "name": "python3"
  },
  "language_info": {
   "codemirror_mode": {
    "name": "ipython",
    "version": 3
   },
   "file_extension": ".py",
   "mimetype": "text/x-python",
   "name": "python",
   "nbconvert_exporter": "python",
   "pygments_lexer": "ipython3",
   "version": "3.9.13"
  }
 },
 "nbformat": 4,
 "nbformat_minor": 5
}
