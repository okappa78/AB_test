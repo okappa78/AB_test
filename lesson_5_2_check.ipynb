{
 "cells": [
  {
   "cell_type": "code",
   "execution_count": null,
   "id": "1f9df4e4",
   "metadata": {},
   "outputs": [],
   "source": [
    "Проводим АА-тест для групп 1 и 2 в период с 2023-01-24 по 2023-01-30"
   ]
  },
  {
   "cell_type": "code",
   "execution_count": null,
   "id": "40044adf",
   "metadata": {},
   "outputs": [],
   "source": [
    "# Импортируем библиотеки\n",
    "\n",
    "import pandas as pd\n",
    "import pandahouse as ph\n",
    "import scipy.stats as stats\n",
    "import seaborn as sns\n",
    "from matplotlib import pyplot as plt"
   ]
  },
  {
   "cell_type": "code",
   "execution_count": null,
   "id": "9c24e815",
   "metadata": {},
   "outputs": [],
   "source": [
    "# Определяем функцию для проведения повторяющегося t-теста над p-value\n",
    "def get_pvalues(df, test_group_1, test_group_2, num_tests):\n",
    "    p_values = []\n",
    "    for _ in range(num_tests):\n",
    "        df_group_2 = df[df.exp_group == test_group_1].sample(n=500)\n",
    "        df_group_3 = df[df.exp_group == test_group_2].sample(n=500)\n",
    "        result = stats.ttest_ind(df_group_2.ctr,\n",
    "                                 df_group_3.ctr,\n",
    "                                 equal_var=False)\n",
    "        p_values += [result[1]]\n",
    "    return pd.DataFrame(p_values, columns=['p_value'])"
   ]
  },
  {
   "cell_type": "code",
   "execution_count": null,
   "id": "21da6fd1",
   "metadata": {},
   "outputs": [],
   "source": [
    "# Вытаскиваем данные из clickhouse в pandas с 2023-01-24 по 2023-01-30\n",
    "\n",
    "connection = {\n",
    "              'host': 'https://clickhouse.lab.karpov.courses',\n",
    "              'database':'simulator_20230220',\n",
    "              'user':'student', \n",
    "              'password':'dpo_python_2020'\n",
    "              }\n",
    "\n",
    "query = '''\n",
    "select exp_group,\n",
    "       user_id,\n",
    "       sum(action='like') likes,\n",
    "       sum(action='view') views,\n",
    "       likes/views ctr\n",
    "from {db}.feed_actions \n",
    "where toDate(time) >= '2023-01-24' and toDate(time) <= '2023-01-30'\n",
    "group by exp_group,\n",
    "       user_id\n",
    "'''\n",
    "\n",
    "df_test = ph.read_clickhouse(query, connection=connection)"
   ]
  },
  {
   "cell_type": "code",
   "execution_count": null,
   "id": "e8972308",
   "metadata": {},
   "outputs": [],
   "source": [
    "# Объявляем переменные АА-теста: контрольная группа, тестовая группа, количество повторений\n",
    "\n",
    "group_control = 1\n",
    "group_test = 2\n",
    "num_tests = 10000"
   ]
  },
  {
   "cell_type": "code",
   "execution_count": null,
   "id": "48922aa6",
   "metadata": {},
   "outputs": [],
   "source": [
    "# Делаем выводы\n",
    "\n",
    "df_pvalues = get_pvalues(df_test, group_control, group_test, num_tests=num_tests)\n",
    "\n",
    "plt.figure(figsize=(12, 6))\n",
    "sns.histplot(df_pvalues, bins=100)\n",
    "\n",
    "percent_pvalue_05 = round(df_pvalues[df_pvalues <= 0.05].count() / num_tests * 100, 2)[0]\n",
    "answer = 'корректно'\n",
    "\n",
    "print(f'Значение p-values оказалось меньше либо равным 0.05 в {percent_pvalue_05}% случаев,')\n",
    "if percent_pvalue_05 > 5:\n",
    "    answer = 'некорректно'\n",
    "print(f'что говорит о том, что наша система сплитования работает {answer}!')"
   ]
  },
  {
   "cell_type": "code",
   "execution_count": null,
   "id": "411203f4",
   "metadata": {},
   "outputs": [],
   "source": [
    "#Вытаскиваем данные из clickhouse в pandas с с 2023-01-31 по 2023-02-06\n",
    "\n",
    "connection = {\n",
    "              'host': 'https://clickhouse.lab.karpov.courses',\n",
    "              'database':'simulator_20230220',\n",
    "              'user':'student', \n",
    "              'password':'dpo_python_2020'\n",
    "              }\n",
    "\n",
    "query = '''\n",
    "select exp_group,\n",
    "       user_id,\n",
    "       sum(action='like') likes,\n",
    "       sum(action='view') views,\n",
    "       likes/views ctr\n",
    "from {db}.feed_actions \n",
    "where toDate(time) >= '2023-01-31' and toDate(time) <= '2023-02-06'\n",
    "group by exp_group,\n",
    "       user_id\n",
    "'''\n",
    "\n",
    "df_test = ph.read_clickhouse(query, connection=connection)"
   ]
  },
  {
   "cell_type": "code",
   "execution_count": null,
   "id": "270485a2",
   "metadata": {},
   "outputs": [],
   "source": [
    "# Делаем выводы\n",
    "\n",
    "df_pvalues = get_pvalues(df_test, group_control, group_test, num_tests=num_tests)\n",
    "\n",
    "plt.figure(figsize=(12, 6))\n",
    "sns.histplot(df_pvalues, bins=100)\n",
    "\n",
    "percent_pvalue_05 = round(df_pvalues[df_pvalues <= 0.05].count() / num_tests * 100, 2)[0]\n",
    "answer = 'корректно'\n",
    "\n",
    "print(f'Значение p-values оказалось меньше либо равным 0.05 в {percent_pvalue_05}% случаев,')\n",
    "#if percent_pvalue_05 > 5:\n",
    "#    answer = 'некорректно'\n",
    "#print(f'что говорит о том, что наша система сплитования работает {answer}!')"
   ]
  }
 ],
 "metadata": {
  "kernelspec": {
   "display_name": "Python 3 (ipykernel)",
   "language": "python",
   "name": "python3"
  },
  "language_info": {
   "codemirror_mode": {
    "name": "ipython",
    "version": 3
   },
   "file_extension": ".py",
   "mimetype": "text/x-python",
   "name": "python",
   "nbconvert_exporter": "python",
   "pygments_lexer": "ipython3",
   "version": "3.9.13"
  }
 },
 "nbformat": 4,
 "nbformat_minor": 5
}
