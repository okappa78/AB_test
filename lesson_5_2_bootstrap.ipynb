{
 "cells": [
  {
   "cell_type": "code",
   "execution_count": null,
   "id": "d47005e1",
   "metadata": {},
   "outputs": [],
   "source": [
    "# Импортируем библиотеки\n",
    "\n",
    "import pandas as pd\n",
    "import numpy as np\n",
    "import pandahouse as ph\n",
    "import scipy.stats as stats\n",
    "import seaborn as sns\n",
    "from matplotlib import pyplot as plt"
   ]
  },
  {
   "cell_type": "code",
   "execution_count": null,
   "id": "069e0cda",
   "metadata": {},
   "outputs": [],
   "source": [
    "# Определяем функцию для расчета global ctr\n",
    "\n",
    "def bootstrap(likes1, views1, likes2, views2, n_bootstrap=2000):\n",
    "\n",
    "    poisson_bootstraps1 = stats.poisson(1).rvs(\n",
    "        (n_bootstrap, len(likes1))).astype(np.int64)\n",
    "\n",
    "    poisson_bootstraps2 = stats.poisson(1).rvs(\n",
    "            (n_bootstrap, len(likes2))).astype(np.int64)\n",
    "    \n",
    "    globalCTR1 = (poisson_bootstraps1*likes1).sum(axis=1)/(poisson_bootstraps1*views1).sum(axis=1)\n",
    "    \n",
    "    globalCTR2 = (poisson_bootstraps2*likes2).sum(axis=1)/(poisson_bootstraps2*views2).sum(axis=1)\n",
    "\n",
    "    return globalCTR1, globalCTR2\n"
   ]
  },
  {
   "cell_type": "code",
   "execution_count": null,
   "id": "1635bede",
   "metadata": {},
   "outputs": [],
   "source": [
    "# Вытаскиваем данные из clickhouse для групп 1 и 2 в период с 2023-01-31 по 2023-02-06\n",
    "\n",
    "connection = {\n",
    "              'host': 'https://clickhouse.lab.karpov.courses',\n",
    "              'database':'simulator_20230220',\n",
    "              'user':'student', \n",
    "              'password':'dpo_python_2020'\n",
    "              }\n",
    "\n",
    "q = \"\"\"\n",
    "SELECT exp_group, \n",
    "    user_id,\n",
    "    sum(action = 'like') as likes,\n",
    "    sum(action = 'view') as views,\n",
    "    likes/views as ctr\n",
    "FROM {db}.feed_actions \n",
    "WHERE toDate(time) between '2023-01-31' and '2023-02-06'\n",
    "    and exp_group in (1, 2)\n",
    "GROUP BY exp_group, user_id\n",
    "\"\"\"\n",
    "\n",
    "\n",
    "df = ph.read_clickhouse(q, connection=connection)\n"
   ]
  },
  {
   "cell_type": "code",
   "execution_count": null,
   "id": "04ea8ad7",
   "metadata": {},
   "outputs": [],
   "source": [
    "# Производим расчет global ctr\n",
    "\n",
    "likes1 = df[df.exp_group == 1].likes.to_numpy()\n",
    "views1 = df[df.exp_group == 1].views.to_numpy()\n",
    "likes2 = df[df.exp_group == 2].likes.to_numpy()\n",
    "views2 = df[df.exp_group == 2].views.to_numpy()\n",
    "\n",
    "ctr1, ctr2 = bootstrap(likes1, views1, likes2, views2)"
   ]
  },
  {
   "cell_type": "code",
   "execution_count": null,
   "id": "840ffc0c",
   "metadata": {},
   "outputs": [],
   "source": [
    "# Рисуем гистограмму распределения global ctr\n",
    "\n",
    "plt.figure(figsize=(12, 6))\n",
    "sns.histplot(ctr1, color='red', alpha=0.5)\n",
    "sns.histplot(ctr2, alpha=0.5)"
   ]
  },
  {
   "cell_type": "code",
   "execution_count": null,
   "id": "c792e4dd",
   "metadata": {},
   "outputs": [],
   "source": [
    "# Рисуем гистограмму разниц между глобальными CTR\n",
    "\n",
    "plt.figure(figsize=(12, 6))\n",
    "sns.histplot(ctr2 - ctr1)\n"
   ]
  }
 ],
 "metadata": {
  "kernelspec": {
   "display_name": "Python 3 (ipykernel)",
   "language": "python",
   "name": "python3"
  },
  "language_info": {
   "codemirror_mode": {
    "name": "ipython",
    "version": 3
   },
   "file_extension": ".py",
   "mimetype": "text/x-python",
   "name": "python",
   "nbconvert_exporter": "python",
   "pygments_lexer": "ipython3",
   "version": "3.9.13"
  }
 },
 "nbformat": 4,
 "nbformat_minor": 5
}
