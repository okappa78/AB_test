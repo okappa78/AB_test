{
 "cells": [
  {
   "cell_type": "code",
   "execution_count": null,
   "id": "68dc798d",
   "metadata": {},
   "outputs": [],
   "source": [
    "# Импортируем библиотеки\n",
    "\n",
    "import pandas as pd\n",
    "import pandahouse as ph\n",
    "import scipy.stats as stats\n",
    "import seaborn as sns\n",
    "from matplotlib import pyplot as plt"
   ]
  },
  {
   "cell_type": "code",
   "execution_count": null,
   "id": "9fc6b134",
   "metadata": {},
   "outputs": [],
   "source": [
    "# Определяем функцию для расчета p-value по t-тесту и тесту Манна-Уитни\n",
    "\n",
    "def get_pvalues(data, groups, metric):\n",
    "    # Выбираем группы\n",
    "    group_control, group_test = int(groups[-2]), int(groups[-1])\n",
    "     # Проводим t-тест\n",
    "    p_ttest = stats.ttest_ind(df[df.exp_group == group_control][metric],\n",
    "                              df[df.exp_group == group_test][metric],\n",
    "                              equal_var=False)[1]\n",
    "    # Проводим тест Манна-Уитни\n",
    "    p_mnwtn = stats.mannwhitneyu(df[df.exp_group == group_control][metric], \n",
    "                               df[df.exp_group == group_test][metric],\n",
    "                               alternative = 'two-sided')[1]\n",
    "    return [p_ttest, p_mnwtn]"
   ]
  },
  {
   "cell_type": "code",
   "execution_count": null,
   "id": "b3fac348",
   "metadata": {},
   "outputs": [],
   "source": [
    "# Вытаскиваем данные из clickhouse для групп в период с 2023-01-31 по 2023-02-06\n",
    "# вместе с новыми метриками\n",
    "\n",
    "connection = {\n",
    "              'host': 'https://clickhouse.lab.karpov.courses',\n",
    "              'database':'simulator_20230220',\n",
    "              'user':'student', \n",
    "              'password':'dpo_python_2020'\n",
    "              }\n",
    "\n",
    "query = '''\n",
    "select exp_group,\n",
    "       user_id,\n",
    "       sum(action='like') likes,\n",
    "       sum(action='view') views,\n",
    "       likes/views ctr,\n",
    "       (select sum(action='like')  / sum(action='view')\n",
    "        from simulator_20230220.feed_actions \n",
    "        where toDate(time) between '2023-01-31' and '2023-02-06'\n",
    "              and exp_group = 0\n",
    "        group by exp_group) contol_ctr,\n",
    "        likes - contol_ctr * views lin_likes\n",
    "from simulator_20230220.feed_actions \n",
    "where toDate(time) between '2023-01-31' and '2023-02-06'\n",
    "      and exp_group in (0, 3)\n",
    "group by exp_group,\n",
    "       user_id\n",
    "       \n",
    "union all\n",
    "\n",
    "select exp_group,\n",
    "       user_id,\n",
    "       sum(action='like') likes,\n",
    "       sum(action='view') views,\n",
    "       likes/views ctr,\n",
    "       (select sum(action='like')  / sum(action='view')\n",
    "        from simulator_20230220.feed_actions \n",
    "        where toDate(time) between '2023-01-31' and '2023-02-06'\n",
    "              and exp_group = 1\n",
    "        group by exp_group) contol_ctr,\n",
    "        likes - contol_ctr * views lin_likes\n",
    "from simulator_20230220.feed_actions \n",
    "where toDate(time) between '2023-01-31' and '2023-02-06'\n",
    "      and exp_group in (1, 2)\n",
    "group by exp_group,\n",
    "       user_id\n",
    "'''\n",
    "\n",
    "df = ph.read_clickhouse(query, connection=connection)"
   ]
  },
  {
   "cell_type": "code",
   "execution_count": null,
   "id": "32fad23b",
   "metadata": {},
   "outputs": [],
   "source": [
    "# Рисуем гистограмму распределения поюзерных ctr\n",
    "\n",
    "plt.figure(figsize=(13, 7))\n",
    "groups = sns.histplot(data = df, \n",
    "              x='ctr', \n",
    "              hue='exp_group', \n",
    "              palette = ['r', 'g', 'b', 'y'],\n",
    "              alpha=0.6,\n",
    "              kde=False)"
   ]
  },
  {
   "cell_type": "code",
   "execution_count": null,
   "id": "f273043d",
   "metadata": {},
   "outputs": [],
   "source": [
    "# Рисуем гистограмму распределения linearized likes\n",
    "\n",
    "plt.figure(figsize=(13, 7))\n",
    "groups = sns.histplot(data = df, \n",
    "              x='lin_likes', \n",
    "              hue='exp_group', \n",
    "              palette = ['r', 'g', 'b', 'y'],\n",
    "              alpha=0.6,\n",
    "              kde=False)"
   ]
  },
  {
   "cell_type": "code",
   "execution_count": null,
   "id": "41fbf4b5",
   "metadata": {},
   "outputs": [],
   "source": [
    "# Определяем словарь, в который будем вносить результаты\n",
    "\n",
    "dict_pvalues = {0: ['ctr_by_user', 'groups_03'],\n",
    "                1: ['ctr_by_user', 'groups_12'],\n",
    "                2: ['linear_likes', 'groups_03'],\n",
    "                3: ['linear_likes', 'groups_12']}"
   ]
  },
  {
   "cell_type": "code",
   "execution_count": null,
   "id": "e9d4056e",
   "metadata": {},
   "outputs": [],
   "source": [
    "# Вносим в словарь данные по p_values\n",
    "\n",
    "metrics = (\"ctr\", \"ctr\", \"lin_likes\", \"lin_likes\")\n",
    "for i in range(4):\n",
    "    dict_pvalues[i] += get_pvalues(df, dict_pvalues[i][1], metrics[i])"
   ]
  },
  {
   "cell_type": "code",
   "execution_count": null,
   "id": "0b2bb8ff",
   "metadata": {},
   "outputs": [],
   "source": [
    "# Создаем датафрейм по p_values\n",
    "\n",
    "df_pvalues = pd.DataFrame.from_dict(dict_pvalues, \n",
    "                                    orient='index',\n",
    "                                    columns=['method', 'group', 't_test', 'manwtn'])"
   ]
  },
  {
   "cell_type": "code",
   "execution_count": null,
   "id": "a3eb4935",
   "metadata": {},
   "outputs": [],
   "source": [
    "# Проводим сравнение для групп на разных методах\n",
    "\n",
    "df_pvalues.sort_values('group')"
   ]
  }
 ],
 "metadata": {
  "kernelspec": {
   "display_name": "Python 3 (ipykernel)",
   "language": "python",
   "name": "python3"
  },
  "language_info": {
   "codemirror_mode": {
    "name": "ipython",
    "version": 3
   },
   "file_extension": ".py",
   "mimetype": "text/x-python",
   "name": "python",
   "nbconvert_exporter": "python",
   "pygments_lexer": "ipython3",
   "version": "3.9.13"
  }
 },
 "nbformat": 4,
 "nbformat_minor": 5
}
