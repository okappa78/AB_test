{
 "cells": [
  {
   "cell_type": "code",
   "execution_count": null,
   "id": "aee7c602",
   "metadata": {},
   "outputs": [],
   "source": [
    "# Импортируем библиотеки\n",
    "\n",
    "import pandas as pd\n",
    "import pandahouse as ph\n",
    "import scipy.stats as stats\n",
    "import seaborn as sns\n",
    "from matplotlib import pyplot as plt"
   ]
  },
  {
   "cell_type": "code",
   "execution_count": null,
   "id": "91f470b8",
   "metadata": {},
   "outputs": [],
   "source": [
    "# Вытаскиваем данные из clickhouse для групп 1 и 2 в период с 2023-01-31 по 2023-02-06\n",
    "\n",
    "connection = {\n",
    "              'host': 'https://clickhouse.lab.karpov.courses',\n",
    "              'database':'simulator_20230220',\n",
    "              'user':'student', \n",
    "              'password':'dpo_python_2020'\n",
    "              }\n",
    "\n",
    "query = '''\n",
    "select exp_group,\n",
    "       user_id,\n",
    "       sum(action='like') likes,\n",
    "       sum(action='view') views,\n",
    "       likes/views ctr\n",
    "from {db}.feed_actions \n",
    "where toDate(time) >= '2023-01-31' and toDate(time) <= '2023-02-06'\n",
    "      and exp_group in (1, 2)\n",
    "group by exp_group,\n",
    "       user_id\n",
    "'''\n",
    "\n",
    "df = ph.read_clickhouse(query, connection=connection)"
   ]
  },
  {
   "cell_type": "code",
   "execution_count": null,
   "id": "19777336",
   "metadata": {},
   "outputs": [],
   "source": [
    "# Рисуем гистограмму распределения поюзерных ctr\n",
    "\n",
    "plt.figure(figsize=(12, 6))\n",
    "groups = sns.histplot(data = df, \n",
    "              x='ctr', \n",
    "              hue='exp_group', \n",
    "              palette = ['r', 'b'],\n",
    "              alpha=0.3,\n",
    "              kde=False)"
   ]
  },
  {
   "cell_type": "code",
   "execution_count": null,
   "id": "f5b851b7",
   "metadata": {},
   "outputs": [],
   "source": [
    "df[df.exp_group == 1].ctr.mean()"
   ]
  },
  {
   "cell_type": "code",
   "execution_count": null,
   "id": "78e34b6f",
   "metadata": {},
   "outputs": [],
   "source": [
    "df[df.exp_group == 2].ctr.mean()"
   ]
  },
  {
   "cell_type": "code",
   "execution_count": null,
   "id": "7f4891e5",
   "metadata": {},
   "outputs": [],
   "source": [
    "# Проводим t-тест\n",
    "stats.ttest_ind(df[df.exp_group == 1].ctr,\n",
    "                df[df.exp_group == 2].ctr,\n",
    "                equal_var=False)"
   ]
  },
  {
   "cell_type": "code",
   "execution_count": null,
   "id": "bdc1e88d",
   "metadata": {},
   "outputs": [],
   "source": [
    "# Проводим тест Манна-Уитни\n",
    "stats.mannwhitneyu(df[df.exp_group == 1].ctr, \n",
    "                   df[df.exp_group == 2].ctr,\n",
    "                   alternative = 'two-sided')"
   ]
  },
  {
   "cell_type": "code",
   "execution_count": null,
   "id": "f456e5cb",
   "metadata": {},
   "outputs": [],
   "source": [
    "# Проводим t-тест в clickhouse для групп 1 и 2 в период с 2023-01-31 по 2023-02-06\n",
    "\n",
    "connection = {\n",
    "              'host': 'https://clickhouse.lab.karpov.courses',\n",
    "              'database':'simulator_20230220',\n",
    "              'user':'student', \n",
    "              'password':'dpo_python_2020'\n",
    "              }\n",
    "\n",
    "query = '''\n",
    "WITH welchTTest(ctr, exp_index) as ttest\n",
    "\n",
    "select tupleElement(ttest,1) as statistic,\n",
    "    tupleElement(ttest,2) as p_value\n",
    "FROM (SELECT exp_group, \n",
    "        case when exp_group = 1 then 0 else 1 end as exp_index,\n",
    "        user_id, \n",
    "        sum(action = 'like') as likes,\n",
    "        sum(action = 'view') as views,\n",
    "        likes/views as ctr\n",
    "    FROM {db}.feed_actions \n",
    "    WHERE toDate(time) between '2023-01-31' and '2023-02-06'\n",
    "        and exp_group in (1, 2)\n",
    "    GROUP BY exp_group, user_id)\n",
    "'''\n",
    "\n",
    "ph.read_clickhouse(query, connection=connection)"
   ]
  },
  {
   "cell_type": "code",
   "execution_count": null,
   "id": "2e1ed8cc",
   "metadata": {},
   "outputs": [],
   "source": [
    "# Проводим t-тест в clickhouse для групп 1 и 2 в период с 2023-01-31 по 2023-02-06\n",
    "\n",
    "connection = {\n",
    "              'host': 'https://clickhouse.lab.karpov.courses',\n",
    "              'database':'simulator_20230220',\n",
    "              'user':'student', \n",
    "              'password':'dpo_python_2020'\n",
    "              }\n",
    "\n",
    "query = '''\n",
    "WITH mannWhitneyUTest('two-sided')(ctr, exp_index) as ttest\n",
    "\n",
    "select tupleElement(ttest,1) as statistic,\n",
    "    tupleElement(ttest,2) as p_value\n",
    "FROM (SELECT exp_group, \n",
    "        case when exp_group = 1 then 0 else 1 end as exp_index,\n",
    "        user_id, \n",
    "        sum(action = 'like') as likes,\n",
    "        sum(action = 'view') as views,\n",
    "        likes/views as ctr\n",
    "    FROM {db}.feed_actions \n",
    "    WHERE toDate(time) between '2023-01-31' and '2023-02-06'\n",
    "        and exp_group in (1, 2)\n",
    "    GROUP BY exp_group, user_id)\n",
    "'''\n",
    "\n",
    "ph.read_clickhouse(query, connection=connection)"
   ]
  }
 ],
 "metadata": {
  "kernelspec": {
   "display_name": "Python 3 (ipykernel)",
   "language": "python",
   "name": "python3"
  },
  "language_info": {
   "codemirror_mode": {
    "name": "ipython",
    "version": 3
   },
   "file_extension": ".py",
   "mimetype": "text/x-python",
   "name": "python",
   "nbconvert_exporter": "python",
   "pygments_lexer": "ipython3",
   "version": "3.9.13"
  }
 },
 "nbformat": 4,
 "nbformat_minor": 5
}
